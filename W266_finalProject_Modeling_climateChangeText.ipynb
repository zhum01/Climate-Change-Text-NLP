{
 "cells": [
  {
   "cell_type": "code",
   "execution_count": 1,
   "metadata": {},
   "outputs": [],
   "source": [
    "import numpy as np\n",
    "import pandas as pd\n",
    "import matplotlib.pyplot as plt\n",
    "import scipy\n",
    "import json\n",
    "import pprint\n",
    "import tensorflow as tf\n",
    "from tensorflow_addons.metrics import F1Score\n",
    "from sklearn.model_selection import train_test_split\n",
    "from sklearn.preprocessing import LabelEncoder\n",
    "from transformers import BertTokenizer, TFBertModel, DistilBertTokenizer, TFDistilBertModel\n",
    "\n",
    "loadDir = r'C:\\Users\\mz1391\\Downloads\\Masters_Berkeley_MIDS\\W266_NLP_Deep_Learning\\Final_Project\\GWStance-master/'\n",
    "loadFName = 'GWSD.tsv'\n",
    "bertModelStr = 'bert-base-uncased'\n",
    "\n",
    "rawData = pd.read_csv(loadDir + loadFName, sep='\\t')\n",
    "labeledInds = np.where(rawData['disagree'].notnull() == True)[0] # use only labeled examples\n",
    "allSents = rawData.iloc[labeledInds]['sentence']\n",
    "allLabels = rawData.iloc[labeledInds][['disagree', 'agree', 'neutral']].idxmax(axis=1) # determine \"ground truth\" label (based on outputs from a bayesian model developed by Luo et al., 2020)"
   ]
  },
  {
   "cell_type": "markdown",
   "metadata": {},
   "source": [
    "# Load Engineered Features"
   ]
  },
  {
   "cell_type": "code",
   "execution_count": 2,
   "metadata": {},
   "outputs": [
    {
     "data": {
      "text/html": [
       "<div>\n",
       "<style scoped>\n",
       "    .dataframe tbody tr th:only-of-type {\n",
       "        vertical-align: middle;\n",
       "    }\n",
       "\n",
       "    .dataframe tbody tr th {\n",
       "        vertical-align: top;\n",
       "    }\n",
       "\n",
       "    .dataframe thead th {\n",
       "        text-align: right;\n",
       "    }\n",
       "</style>\n",
       "<table border=\"1\" class=\"dataframe\">\n",
       "  <thead>\n",
       "    <tr style=\"text-align: right;\">\n",
       "      <th></th>\n",
       "      <th>label</th>\n",
       "      <th>numTokens</th>\n",
       "      <th>bertSent</th>\n",
       "      <th>swnet_zscored</th>\n",
       "      <th>sentence</th>\n",
       "    </tr>\n",
       "    <tr>\n",
       "      <th>id</th>\n",
       "      <th></th>\n",
       "      <th></th>\n",
       "      <th></th>\n",
       "      <th></th>\n",
       "      <th></th>\n",
       "    </tr>\n",
       "  </thead>\n",
       "  <tbody>\n",
       "    <tr>\n",
       "      <th>5</th>\n",
       "      <td>agree</td>\n",
       "      <td>37</td>\n",
       "      <td>0.984627</td>\n",
       "      <td>0.143836</td>\n",
       "      <td>Warmer-than-normal sea surface temperatures ar...</td>\n",
       "    </tr>\n",
       "    <tr>\n",
       "      <th>6</th>\n",
       "      <td>neutral</td>\n",
       "      <td>20</td>\n",
       "      <td>-0.888233</td>\n",
       "      <td>0.797092</td>\n",
       "      <td>We will continue to rely in part on fossil fue...</td>\n",
       "    </tr>\n",
       "    <tr>\n",
       "      <th>7</th>\n",
       "      <td>neutral</td>\n",
       "      <td>28</td>\n",
       "      <td>-0.990997</td>\n",
       "      <td>-0.021293</td>\n",
       "      <td>The actual rise in sea levels measured only 1....</td>\n",
       "    </tr>\n",
       "    <tr>\n",
       "      <th>8</th>\n",
       "      <td>disagree</td>\n",
       "      <td>9</td>\n",
       "      <td>-0.955837</td>\n",
       "      <td>2.054611</td>\n",
       "      <td>Claims of global warming have been greatly exa...</td>\n",
       "    </tr>\n",
       "    <tr>\n",
       "      <th>9</th>\n",
       "      <td>neutral</td>\n",
       "      <td>35</td>\n",
       "      <td>-0.966280</td>\n",
       "      <td>0.390526</td>\n",
       "      <td>The Intergovernmental Panel on Climate Change ...</td>\n",
       "    </tr>\n",
       "  </tbody>\n",
       "</table>\n",
       "</div>"
      ],
      "text/plain": [
       "       label  numTokens  bertSent  swnet_zscored  \\\n",
       "id                                                 \n",
       "5      agree         37  0.984627       0.143836   \n",
       "6    neutral         20 -0.888233       0.797092   \n",
       "7    neutral         28 -0.990997      -0.021293   \n",
       "8   disagree          9 -0.955837       2.054611   \n",
       "9    neutral         35 -0.966280       0.390526   \n",
       "\n",
       "                                             sentence  \n",
       "id                                                     \n",
       "5   Warmer-than-normal sea surface temperatures ar...  \n",
       "6   We will continue to rely in part on fossil fue...  \n",
       "7   The actual rise in sea levels measured only 1....  \n",
       "8   Claims of global warming have been greatly exa...  \n",
       "9   The Intergovernmental Panel on Climate Change ...  "
      ]
     },
     "execution_count": 2,
     "metadata": {},
     "output_type": "execute_result"
    }
   ],
   "source": [
    "# code used to get and save engineered features located in separate notebook (W266_finalProject_EDA_climatChangeText.ipynb)\n",
    "\n",
    "loadDir = r'C:\\Users\\mz1391\\Downloads\\Masters_Berkeley_MIDS\\W266_NLP_Deep_Learning\\Final_Project\\saved_files/'\n",
    "fileName = 'engineeredFeatures.csv'\n",
    "\n",
    "featuresDf = pd.read_csv(loadDir+fileName)\n",
    "featuresDf = featuresDf.set_index(featuresDf['id']) # set to same indices as those used for train/dev split\n",
    "featuresDf = featuresDf.drop(['id'], axis=1)\n",
    "featuresDf = featuresDf.join(allSents) # join on text data\n",
    "featuresDf.head()"
   ]
  },
  {
   "cell_type": "code",
   "execution_count": 3,
   "metadata": {},
   "outputs": [],
   "source": [
    "# split data into train, dev, and test sets (test examples are pre-deterimned by authors' labels) \n",
    "# - uses same seed as in EDA\n",
    "\n",
    "devSize = 0.2\n",
    "\n",
    "trainIds = rawData.loc[labeledInds].loc[rawData['in_held_out_test']==False].index.values\n",
    "x_train, x_dev, y_trainStrs, y_devStrs = train_test_split(featuresDf.loc[trainIds], allLabels.loc[trainIds].tolist()\n",
    "                                                  , test_size=devSize, random_state=1214)\n",
    "\n",
    "testIds = rawData.loc[labeledInds].loc[rawData['in_held_out_test']==True].index.values\n",
    "x_test = featuresDf.loc[testIds]\n",
    "y_testStrs = allLabels.loc[testIds].tolist()"
   ]
  },
  {
   "cell_type": "markdown",
   "metadata": {},
   "source": [
    "# Modeling"
   ]
  },
  {
   "cell_type": "code",
   "execution_count": 4,
   "metadata": {},
   "outputs": [],
   "source": [
    "# prepare inputs\n",
    "\n",
    "maxTokenLength = 90\n",
    "nonBertFeaturesToUse = ['numTokens', 'bertSent', 'swnet_zscored']\n",
    "\n",
    "# inputs for BERT (encodings)\n",
    "tokenizer = BertTokenizer.from_pretrained(bertModelStr)\n",
    "train_encodings = tokenizer(x_train['sentence'].tolist(), return_tensors='tf', padding='max_length', truncation=True, max_length=maxTokenLength)\n",
    "dev_encodings = tokenizer(x_dev['sentence'].tolist(), return_tensors='tf', padding='max_length', truncation=True, max_length=maxTokenLength)\n",
    "test_encodings = tokenizer(x_test['sentence'].tolist(), return_tensors='tf', padding='max_length', truncation=True, max_length=maxTokenLength)\n",
    "\n",
    "# non-bert features\n",
    "train_nonBertFeatures = tf.convert_to_tensor(np.array(x_train[nonBertFeaturesToUse]).astype(np.float32).reshape((len(x_train), len(nonBertFeaturesToUse))))\n",
    "dev_nonBertFeatures = tf.convert_to_tensor(np.array(x_dev[nonBertFeaturesToUse]).astype(np.float32).reshape((len(x_dev), len(nonBertFeaturesToUse))))\n",
    "test_nonBertFeatures = tf.convert_to_tensor(np.array(x_test[nonBertFeaturesToUse]).astype(np.float32).reshape((len(x_test), len(nonBertFeaturesToUse))))\n",
    "\n",
    "# convert class labels from strings to one-hot encodings\n",
    "# 'agree' = 0, 'disagree' = 1, 'neutral' = 2 (for random_state=1214 in train_test_split)\n",
    "labelEncoder = LabelEncoder() \n",
    "labelEncoder.fit(y_trainStrs)\n",
    "y_train = tf.keras.utils.to_categorical(labelEncoder.transform(y_trainStrs), num_classes=3, dtype='float32')\n",
    "y_dev = tf.keras.utils.to_categorical(labelEncoder.transform(y_devStrs), num_classes=3, dtype='float32')\n",
    "y_test = tf.keras.utils.to_categorical(labelEncoder.transform(y_testStrs), num_classes=3, dtype='float32')\n",
    "\n",
    "# calculate class weights\n",
    "numClasses = 3\n",
    "totNumExamples = len(allLabels)\n",
    "classWeights = dict.fromkeys([0,1,2])\n",
    "for classNum in np.arange(numClasses):\n",
    "    numExamplesInClass = len(allLabels.loc[allLabels==labelEncoder.inverse_transform([classNum])[0]])\n",
    "    classWeights[classNum] = (1 / numExamplesInClass)*(totNumExamples)/numClasses"
   ]
  },
  {
   "cell_type": "code",
   "execution_count": 5,
   "metadata": {},
   "outputs": [],
   "source": [
    "# build the model architecture\n",
    "\n",
    "def train_fullModel(maxTokenLength, numNeuronsDense, learningRate, dropoutRate, onlyBertEmbed=True, numNonBertFeatures=0):\n",
    "# inputs\n",
    "    input_id = tf.keras.layers.Input(shape=(maxTokenLength,), dtype='int32', name='input_ids')\n",
    "    input_mask = tf.keras.layers.Input(shape=(maxTokenLength,), dtype='int32', name='input_masks')\n",
    "    input_segment = tf.keras.layers.Input(shape=(maxTokenLength,), dtype='int32', name='input_segment_ids')\n",
    "    \n",
    "    if onlyBertEmbed:\n",
    "        modelInputs = [input_id, input_mask, input_segment]\n",
    "    else: # if using other features, add them to the list of inputs\n",
    "        input_nonBertFeatures = tf.keras.layers.Input(shape=(numNonBertFeatures,), dtype='float32', name='nonBertFeatures')\n",
    "        modelInputs = [input_id, input_mask, input_segment, input_nonBertFeatures]\n",
    "\n",
    "# bert pre-trained\n",
    "    bertInputs = [input_id, input_mask, input_segment]\n",
    "    bertPretrained = TFBertModel.from_pretrained(bertModelStr, from_pt=True)\n",
    "    bertClsEmbed = bertPretrained(bertInputs)[1]\n",
    "\n",
    "# dense layers\n",
    "    if onlyBertEmbed:\n",
    "        inputDense = bertClsEmbed\n",
    "    else: # if available, concatenate additional features to BERT word embedding\n",
    "        inputDense = tf.concat((bertClsEmbed, input_nonBertFeatures), axis=1, name='catNonBertFeatures')\n",
    "        \n",
    "    dense1 = tf.keras.layers.Dense(numNeuronsDense[0], activation='relu', name='dense1')(inputDense)\n",
    "    dropout = tf.keras.layers.Dropout(rate=dropoutRate, name='dropout1')(dense1)\n",
    "    y_predicted = tf.keras.layers.Dense(3, activation='softmax', name='outputLayer')(dropout)\n",
    "\n",
    "# compile\n",
    "    model = tf.keras.models.Model(inputs=modelInputs, outputs=y_predicted)\n",
    "    model.compile(optimizer=tf.keras.optimizers.Adam(learning_rate=learningRate)\n",
    "                  , loss='categorical_crossentropy'\n",
    "                  , metrics=['accuracy', tf.keras.metrics.AUC(curve='ROC'), F1Score(num_classes=3, average='macro')]\n",
    "                 )\n",
    "\n",
    "    model.summary()\n",
    "    \n",
    "    return model"
   ]
  },
  {
   "cell_type": "code",
   "execution_count": 7,
   "metadata": {},
   "outputs": [
    {
     "name": "stderr",
     "output_type": "stream",
     "text": [
      "Some weights of the PyTorch model were not used when initializing the TF 2.0 model TFBertModel: ['cls.predictions.transform.LayerNorm.weight', 'cls.predictions.transform.LayerNorm.bias', 'cls.predictions.decoder.weight', 'cls.predictions.transform.dense.weight', 'cls.seq_relationship.bias', 'cls.predictions.bias', 'cls.seq_relationship.weight', 'cls.predictions.transform.dense.bias']\n",
      "- This IS expected if you are initializing TFBertModel from a PyTorch model trained on another task or with another architecture (e.g. initializing a TFBertForSequenceClassification model from a BertForPreTraining model).\n",
      "- This IS NOT expected if you are initializing TFBertModel from a PyTorch model that you expect to be exactly identical (e.g. initializing a TFBertForSequenceClassification model from a BertForSequenceClassification model).\n",
      "All the weights of TFBertModel were initialized from the PyTorch model.\n",
      "If your task is similar to the task the model of the checkpoint was trained on, you can already use TFBertModel for predictions without further training.\n"
     ]
    },
    {
     "name": "stdout",
     "output_type": "stream",
     "text": [
      "WARNING:tensorflow:The parameters `output_attentions`, `output_hidden_states` and `use_cache` cannot be updated when calling a model.They have to be set to True/False in the config object (i.e.: `config=XConfig.from_pretrained('name', output_attentions=True)`).\n",
      "WARNING:tensorflow:The parameter `return_dict` cannot be set in graph mode and will always be set to `True`.\n",
      "Model: \"model\"\n",
      "__________________________________________________________________________________________________\n",
      "Layer (type)                    Output Shape         Param #     Connected to                     \n",
      "==================================================================================================\n",
      "input_ids (InputLayer)          [(None, 90)]         0                                            \n",
      "__________________________________________________________________________________________________\n",
      "input_masks (InputLayer)        [(None, 90)]         0                                            \n",
      "__________________________________________________________________________________________________\n",
      "input_segment_ids (InputLayer)  [(None, 90)]         0                                            \n",
      "__________________________________________________________________________________________________\n",
      "tf_bert_model (TFBertModel)     TFBaseModelOutputWit 109482240   input_ids[0][0]                  \n",
      "                                                                 input_masks[0][0]                \n",
      "                                                                 input_segment_ids[0][0]          \n",
      "__________________________________________________________________________________________________\n",
      "dense1 (Dense)                  (None, 256)          196864      tf_bert_model[0][1]              \n",
      "__________________________________________________________________________________________________\n",
      "dropout1 (Dropout)              (None, 256)          0           dense1[0][0]                     \n",
      "__________________________________________________________________________________________________\n",
      "outputLayer (Dense)             (None, 3)            771         dropout1[0][0]                   \n",
      "==================================================================================================\n",
      "Total params: 109,679,875\n",
      "Trainable params: 109,679,875\n",
      "Non-trainable params: 0\n",
      "__________________________________________________________________________________________________\n",
      "Epoch 1/5\n",
      "WARNING:tensorflow:The parameters `output_attentions`, `output_hidden_states` and `use_cache` cannot be updated when calling a model.They have to be set to True/False in the config object (i.e.: `config=XConfig.from_pretrained('name', output_attentions=True)`).\n",
      "WARNING:tensorflow:The parameter `return_dict` cannot be set in graph mode and will always be set to `True`.\n",
      "WARNING:tensorflow:The parameters `output_attentions`, `output_hidden_states` and `use_cache` cannot be updated when calling a model.They have to be set to True/False in the config object (i.e.: `config=XConfig.from_pretrained('name', output_attentions=True)`).\n",
      "WARNING:tensorflow:The parameter `return_dict` cannot be set in graph mode and will always be set to `True`.\n",
      "93/93 [==============================] - ETA: 0s - loss: 1.0761 - accuracy: 0.4168 - auc: 0.6004 - f1_score: 0.4059WARNING:tensorflow:The parameters `output_attentions`, `output_hidden_states` and `use_cache` cannot be updated when calling a model.They have to be set to True/False in the config object (i.e.: `config=XConfig.from_pretrained('name', output_attentions=True)`).\n",
      "WARNING:tensorflow:The parameter `return_dict` cannot be set in graph mode and will always be set to `True`.\n",
      "93/93 [==============================] - 47s 397ms/step - loss: 1.0755 - accuracy: 0.4176 - auc: 0.6012 - f1_score: 0.4067 - val_loss: 0.8454 - val_accuracy: 0.6135 - val_auc: 0.7994 - val_f1_score: 0.5976\n",
      "Epoch 2/5\n",
      "93/93 [==============================] - 41s 441ms/step - loss: 0.6815 - accuracy: 0.7221 - auc: 0.8669 - f1_score: 0.7099 - val_loss: 0.8373 - val_accuracy: 0.6324 - val_auc: 0.8160 - val_f1_score: 0.6139\n",
      "Epoch 3/5\n",
      "93/93 [==============================] - 41s 441ms/step - loss: 0.4139 - accuracy: 0.8524 - auc: 0.9483 - f1_score: 0.8536 - val_loss: 0.9737 - val_accuracy: 0.6649 - val_auc: 0.8251 - val_f1_score: 0.6418\n",
      "Epoch 4/5\n",
      "93/93 [==============================] - 42s 454ms/step - loss: 0.1692 - accuracy: 0.9351 - auc: 0.9905 - f1_score: 0.9358 - val_loss: 1.2095 - val_accuracy: 0.6703 - val_auc: 0.8235 - val_f1_score: 0.6361\n",
      "Epoch 5/5\n",
      "93/93 [==============================] - 42s 449ms/step - loss: 0.0922 - accuracy: 0.9722 - auc: 0.9968 - f1_score: 0.9723 - val_loss: 1.2707 - val_accuracy: 0.6757 - val_auc: 0.8264 - val_f1_score: 0.6498\n"
     ]
    }
   ],
   "source": [
    "# fit the model on training data and evaluate on dev set\n",
    "\n",
    "numNeuronsDense = [256]\n",
    "learningRate = 2e-5\n",
    "dropoutRate = 0.1\n",
    "batchSize = 16\n",
    "numEpochs = 5\n",
    "\n",
    "modelInputs_train = [train_encodings['input_ids']\n",
    "                    , train_encodings['attention_mask']\n",
    "                    , train_encodings['token_type_ids']\n",
    "                   ]\n",
    "modelInputs_dev = [dev_encodings['input_ids']\n",
    "                  , dev_encodings['attention_mask']\n",
    "                  , dev_encodings['token_type_ids']\n",
    "                 ]\n",
    "\n",
    "with tf.device('/GPU:0'):\n",
    "    tf.keras.backend.clear_session()\n",
    "    \n",
    "    model = train_fullModel(maxTokenLength, numNeuronsDense, learningRate, dropoutRate\n",
    "                            , onlyBertEmbed=True\n",
    "                            , numNonBertFeatures=len(nonBertFeaturesToUse)\n",
    "                           )\n",
    "        \n",
    "    history = model.fit(modelInputs_train\n",
    "                , y_train\n",
    "                , validation_data=(modelInputs_dev, y_dev)\n",
    "                , epochs=numEpochs\n",
    "                , batch_size=batchSize\n",
    "                , class_weight=classWeights\n",
    "               )"
   ]
  },
  {
   "cell_type": "code",
   "execution_count": 25,
   "metadata": {},
   "outputs": [
    {
     "data": {
      "text/plain": [
       "Text(0.5, 1.0, 'Baseline Model Training')"
      ]
     },
     "execution_count": 25,
     "metadata": {},
     "output_type": "execute_result"
    },
    {
     "data": {
      "image/png": "[encoded data removed]",
      "text/plain": [
       "<Figure size 360x360 with 1 Axes>"
      ]
     },
     "metadata": {
      "needs_background": "light"
     },
     "output_type": "display_data"
    }
   ],
   "source": [
    "# plot train/dev accuracies by epoch\n",
    "\n",
    "figH = plt.figure(figsize=(5,5))\n",
    "\n",
    "plt.plot(history.history['accuracy'], linewidth=2)\n",
    "plt.plot(history.history['val_accuracy'], linewidth=2)\n",
    "plt.legend(['Training Accuracy', 'Validation Accuracy'], fontsize=14)\n",
    "plt.ylabel('Accuracy\\n', fontsize=20)\n",
    "plt.xlabel('Epoch', fontsize=20)\n",
    "plt.xticks([0,1,2,3,4], fontsize=14)\n",
    "plt.yticks([.5,.6,.7,.8,.9,1], fontsize=14)\n",
    "plt.title('Baseline Model Training', fontsize=20)"
   ]
  },
  {
   "cell_type": "markdown",
   "metadata": {},
   "source": [
    "# k-fold CV"
   ]
  },
  {
   "cell_type": "code",
   "execution_count": 6,
   "metadata": {},
   "outputs": [],
   "source": [
    "# prepare inputs for kfold\n",
    "from sklearn.model_selection import StratifiedKFold\n",
    "\n",
    "numFolds = 5\n",
    "maxTokenLength = 90\n",
    "nonBertFeaturesToUse = ['numTokens']\n",
    "\n",
    "tokenizer = BertTokenizer.from_pretrained(bertModelStr)\n",
    "allEncodings_kfold = tokenizer(featuresDf.loc[trainIds]['sentence'].tolist(), return_tensors='tf', padding='max_length', truncation=True, max_length=maxTokenLength)\n",
    "nonBertFeatures_kfold = tf.convert_to_tensor(np.array(featuresDf.loc[trainIds][nonBertFeaturesToUse]).astype(np.float32).reshape((len(trainIds), len(nonBertFeaturesToUse))))\n",
    "y_kfold = tf.keras.utils.to_categorical(labelEncoder.fit_transform(allLabels.loc[trainIds].tolist()), num_classes=3, dtype='float32')\n",
    "\n",
    "\n",
    "# get indices for doing k-fold CV\n",
    "kfoldObj = StratifiedKFold(n_splits=numFolds)\n",
    "kfoldInds = list(kfoldObj.split(featuresDf.loc[trainIds], y=allLabels.loc[trainIds].tolist()))\n"
   ]
  },
  {
   "cell_type": "code",
   "execution_count": null,
   "metadata": {},
   "outputs": [],
   "source": [
    "numNeuronsDense = [256]\n",
    "learningRate = 2e-5\n",
    "dropoutRate = 0.1\n",
    "batchSize = 16\n",
    "numEpochs = 5\n",
    "\n",
    "for foldInd in np.arange(numFolds):\n",
    "    modelInputs_train = [tf.gather(allEncodings_kfold['input_ids'], kfoldInds[foldInd][0])\n",
    "                         , tf.gather(allEncodings_kfold['attention_mask'], kfoldInds[foldInd][0])\n",
    "                         , tf.gather(allEncodings_kfold['token_type_ids'], kfoldInds[foldInd][0])\n",
    "                         , tf.gather(nonBertFeatures_kfold, kfoldInds[foldInd][0])\n",
    "                        ]\n",
    "\n",
    "    modelInputs_dev = [tf.gather(allEncodings_kfold['input_ids'], kfoldInds[foldInd][1])\n",
    "                       , tf.gather(allEncodings_kfold['attention_mask'], kfoldInds[foldInd][1])\n",
    "                       , tf.gather(allEncodings_kfold['token_type_ids'], kfoldInds[foldInd][1])\n",
    "                       , tf.gather(nonBertFeatures_kfold, kfoldInds[foldInd][1])\n",
    "                      ]\n",
    "\n",
    "    with tf.device('/GPU:0'):\n",
    "        tf.keras.backend.clear_session()\n",
    "\n",
    "        model = train_fullModel(maxTokenLength, numNeuronsDense, learningRate, dropoutRate\n",
    "                                , onlyBertEmbed=False\n",
    "                                , numNonBertFeatures=len(nonBertFeaturesToUse)\n",
    "                               )\n",
    "\n",
    "        model.fit(modelInputs_train\n",
    "                  , y_kfold[kfoldInds[foldInd][0]]\n",
    "                  , validation_data=(modelInputs_dev, y_kfold[kfoldInds[foldInd][1]])\n",
    "                  , epochs=numEpochs\n",
    "                  , batch_size=batchSize\n",
    "                  , class_weight=classWeights\n",
    "                 )\n",
    "\n",
    "        if foldInd == 0:\n",
    "        # initiate dataframe to store results\n",
    "            devMetrics = pd.DataFrame(columns=model.metrics_names)\n",
    "\n",
    "        # Store performance metrics after evaluating on dev set\n",
    "        devMetrics.loc[foldInd] = model.evaluate(modelInputs_dev, y_kfold[kfoldInds[foldInd][1]])\n",
    "    "
   ]
  },
  {
   "cell_type": "code",
   "execution_count": 14,
   "metadata": {},
   "outputs": [
    {
     "data": {
      "text/html": [
       "<div>\n",
       "<style scoped>\n",
       "    .dataframe tbody tr th:only-of-type {\n",
       "        vertical-align: middle;\n",
       "    }\n",
       "\n",
       "    .dataframe tbody tr th {\n",
       "        vertical-align: top;\n",
       "    }\n",
       "\n",
       "    .dataframe thead th {\n",
       "        text-align: right;\n",
       "    }\n",
       "</style>\n",
       "<table border=\"1\" class=\"dataframe\">\n",
       "  <thead>\n",
       "    <tr style=\"text-align: right;\">\n",
       "      <th></th>\n",
       "      <th>loss</th>\n",
       "      <th>accuracy</th>\n",
       "      <th>auc</th>\n",
       "      <th>f1_score</th>\n",
       "    </tr>\n",
       "  </thead>\n",
       "  <tbody>\n",
       "    <tr>\n",
       "      <th>0</th>\n",
       "      <td>1.344590</td>\n",
       "      <td>0.697297</td>\n",
       "      <td>0.830849</td>\n",
       "      <td>0.691515</td>\n",
       "    </tr>\n",
       "    <tr>\n",
       "      <th>1</th>\n",
       "      <td>1.257644</td>\n",
       "      <td>0.627027</td>\n",
       "      <td>0.812768</td>\n",
       "      <td>0.607531</td>\n",
       "    </tr>\n",
       "    <tr>\n",
       "      <th>2</th>\n",
       "      <td>1.285950</td>\n",
       "      <td>0.648649</td>\n",
       "      <td>0.819118</td>\n",
       "      <td>0.644039</td>\n",
       "    </tr>\n",
       "    <tr>\n",
       "      <th>3</th>\n",
       "      <td>1.237828</td>\n",
       "      <td>0.659459</td>\n",
       "      <td>0.808563</td>\n",
       "      <td>0.644120</td>\n",
       "    </tr>\n",
       "    <tr>\n",
       "      <th>4</th>\n",
       "      <td>1.054074</td>\n",
       "      <td>0.683784</td>\n",
       "      <td>0.853377</td>\n",
       "      <td>0.666450</td>\n",
       "    </tr>\n",
       "  </tbody>\n",
       "</table>\n",
       "</div>"
      ],
      "text/plain": [
       "       loss  accuracy       auc  f1_score\n",
       "0  1.344590  0.697297  0.830849  0.691515\n",
       "1  1.257644  0.627027  0.812768  0.607531\n",
       "2  1.285950  0.648649  0.819118  0.644039\n",
       "3  1.237828  0.659459  0.808563  0.644120\n",
       "4  1.054074  0.683784  0.853377  0.666450"
      ]
     },
     "execution_count": 14,
     "metadata": {},
     "output_type": "execute_result"
    }
   ],
   "source": [
    "# check results of each fold\n",
    "devMetrics"
   ]
  },
  {
   "cell_type": "code",
   "execution_count": 15,
   "metadata": {},
   "outputs": [
    {
     "data": {
      "text/html": [
       "<div>\n",
       "<style scoped>\n",
       "    .dataframe tbody tr th:only-of-type {\n",
       "        vertical-align: middle;\n",
       "    }\n",
       "\n",
       "    .dataframe tbody tr th {\n",
       "        vertical-align: top;\n",
       "    }\n",
       "\n",
       "    .dataframe thead th {\n",
       "        text-align: right;\n",
       "    }\n",
       "</style>\n",
       "<table border=\"1\" class=\"dataframe\">\n",
       "  <thead>\n",
       "    <tr style=\"text-align: right;\">\n",
       "      <th></th>\n",
       "      <th>loss</th>\n",
       "      <th>accuracy</th>\n",
       "      <th>auc</th>\n",
       "      <th>f1_score</th>\n",
       "    </tr>\n",
       "  </thead>\n",
       "  <tbody>\n",
       "    <tr>\n",
       "      <th>0</th>\n",
       "      <td>1.344590</td>\n",
       "      <td>0.697297</td>\n",
       "      <td>0.830849</td>\n",
       "      <td>0.691515</td>\n",
       "    </tr>\n",
       "    <tr>\n",
       "      <th>1</th>\n",
       "      <td>1.257644</td>\n",
       "      <td>0.627027</td>\n",
       "      <td>0.812768</td>\n",
       "      <td>0.607531</td>\n",
       "    </tr>\n",
       "    <tr>\n",
       "      <th>2</th>\n",
       "      <td>1.285950</td>\n",
       "      <td>0.648649</td>\n",
       "      <td>0.819118</td>\n",
       "      <td>0.644039</td>\n",
       "    </tr>\n",
       "    <tr>\n",
       "      <th>3</th>\n",
       "      <td>1.237828</td>\n",
       "      <td>0.659459</td>\n",
       "      <td>0.808563</td>\n",
       "      <td>0.644120</td>\n",
       "    </tr>\n",
       "    <tr>\n",
       "      <th>4</th>\n",
       "      <td>1.054074</td>\n",
       "      <td>0.683784</td>\n",
       "      <td>0.853377</td>\n",
       "      <td>0.666450</td>\n",
       "    </tr>\n",
       "  </tbody>\n",
       "</table>\n",
       "</div>"
      ],
      "text/plain": [
       "       loss  accuracy       auc  f1_score\n",
       "0  1.344590  0.697297  0.830849  0.691515\n",
       "1  1.257644  0.627027  0.812768  0.607531\n",
       "2  1.285950  0.648649  0.819118  0.644039\n",
       "3  1.237828  0.659459  0.808563  0.644120\n",
       "4  1.054074  0.683784  0.853377  0.666450"
      ]
     },
     "execution_count": 15,
     "metadata": {},
     "output_type": "execute_result"
    }
   ],
   "source": [
    "# save results of CV\n",
    "\n",
    "saveDir = r'C:\\Users\\mz1391\\Downloads\\Masters_Berkeley_MIDS\\W266_NLP_Deep_Learning\\Final_Project\\saved_files/'\n",
    "fileName = 'CV_bert_classWeights_ONLYnumTokens.csv'\n",
    "\n",
    "devMetrics.to_csv(saveDir+fileName, index=False)\n",
    "\n",
    "# load to see that save worked properly\n",
    "pd.read_csv(saveDir+fileName)"
   ]
  },
  {
   "cell_type": "markdown",
   "metadata": {},
   "source": [
    "# Output results of different models "
   ]
  },
  {
   "cell_type": "code",
   "execution_count": 7,
   "metadata": {},
   "outputs": [
    {
     "data": {
      "text/plain": [
       "loss        1.180357\n",
       "accuracy    0.671892\n",
       "auc         0.833501\n",
       "f1_score    0.652107\n",
       "dtype: float64"
      ]
     },
     "execution_count": 7,
     "metadata": {},
     "output_type": "execute_result"
    }
   ],
   "source": [
    "saveDir = r'C:\\Users\\mz1391\\Downloads\\Masters_Berkeley_MIDS\\W266_NLP_Deep_Learning\\Final_Project\\saved_files/'\n",
    "fileName = 'CV_bert_NOclassWeights_NOengFeatures.csv'\n",
    "\n",
    "# load to see that save worked properly\n",
    "pd.read_csv(saveDir+fileName).mean()"
   ]
  },
  {
   "cell_type": "code",
   "execution_count": 11,
   "metadata": {},
   "outputs": [
    {
     "data": {
      "text/plain": [
       "loss        1.212268\n",
       "accuracy    0.667027\n",
       "auc         0.825702\n",
       "f1_score    0.643627\n",
       "dtype: float64"
      ]
     },
     "execution_count": 11,
     "metadata": {},
     "output_type": "execute_result"
    }
   ],
   "source": [
    "fileName = 'CV_bert_classWeights_NOengFeatures.csv'\n",
    "\n",
    "# load to see that save worked properly\n",
    "pd.read_csv(saveDir+fileName).mean()"
   ]
  },
  {
   "cell_type": "code",
   "execution_count": 16,
   "metadata": {},
   "outputs": [
    {
     "data": {
      "text/plain": [
       "loss        1.236017\n",
       "accuracy    0.663243\n",
       "auc         0.824935\n",
       "f1_score    0.650731\n",
       "dtype: float64"
      ]
     },
     "execution_count": 16,
     "metadata": {},
     "output_type": "execute_result"
    }
   ],
   "source": [
    "saveDir = r'C:\\Users\\mz1391\\Downloads\\Masters_Berkeley_MIDS\\W266_NLP_Deep_Learning\\Final_Project\\saved_files/'\n",
    "fileName = 'CV_bert_classWeights_ONLYnumTokens.csv'\n",
    "\n",
    "# load to see that save worked properly\n",
    "pd.read_csv(saveDir+fileName).mean()"
   ]
  },
  {
   "cell_type": "code",
   "execution_count": 17,
   "metadata": {},
   "outputs": [
    {
     "data": {
      "text/plain": [
       "loss        1.167497\n",
       "accuracy    0.661081\n",
       "auc         0.832196\n",
       "f1_score    0.646802\n",
       "dtype: float64"
      ]
     },
     "execution_count": 17,
     "metadata": {},
     "output_type": "execute_result"
    }
   ],
   "source": [
    "saveDir = r'C:\\Users\\mz1391\\Downloads\\Masters_Berkeley_MIDS\\W266_NLP_Deep_Learning\\Final_Project\\saved_files/'\n",
    "fileName = 'CV_bert_classWeights_ONLYswnet.csv'\n",
    "\n",
    "# load to see that save worked properly\n",
    "pd.read_csv(saveDir+fileName).mean()"
   ]
  },
  {
   "cell_type": "code",
   "execution_count": 20,
   "metadata": {},
   "outputs": [
    {
     "data": {
      "text/plain": [
       "loss        1.163830\n",
       "accuracy    0.685946\n",
       "auc         0.841779\n",
       "f1_score    0.661259\n",
       "dtype: float64"
      ]
     },
     "execution_count": 20,
     "metadata": {},
     "output_type": "execute_result"
    }
   ],
   "source": [
    "saveDir = r'C:\\Users\\mz1391\\Downloads\\Masters_Berkeley_MIDS\\W266_NLP_Deep_Learning\\Final_Project\\saved_files/'\n",
    "fileName = 'CV_bert_classWeights_ONLYbertSent.csv'\n",
    "\n",
    "# load to see that save worked properly\n",
    "pd.read_csv(saveDir+fileName).mean()"
   ]
  },
  {
   "cell_type": "code",
   "execution_count": 4,
   "metadata": {},
   "outputs": [
    {
     "data": {
      "text/plain": [
       "loss        1.244087\n",
       "accuracy    0.669189\n",
       "auc         0.828802\n",
       "f1_score    0.654088\n",
       "dtype: float64"
      ]
     },
     "execution_count": 4,
     "metadata": {},
     "output_type": "execute_result"
    }
   ],
   "source": [
    "fileName = 'CV_bert_3engFeatures.csv'\n",
    "\n",
    "# load to see that save worked properly\n",
    "pd.read_csv(saveDir+fileName).mean()"
   ]
  },
  {
   "cell_type": "code",
   "execution_count": 90,
   "metadata": {},
   "outputs": [],
   "source": [
    "# save model weights from best model of CV\n",
    "\n",
    "saveDir = r'C:\\Users\\mz1391\\Downloads\\Masters_Berkeley_MIDS\\W266_NLP_Deep_Learning\\Final_Project\\saved_files/saved_models/'\n",
    "fileName = 'bert_3engFeatures'\n",
    "\n",
    "# Create a callback that saves the model's weights\n",
    "model.save_weights(saveDir+fileName)"
   ]
  },
  {
   "cell_type": "code",
   "execution_count": 12,
   "metadata": {},
   "outputs": [
    {
     "name": "stderr",
     "output_type": "stream",
     "text": [
      "Some weights of the PyTorch model were not used when initializing the TF 2.0 model TFBertModel: ['cls.seq_relationship.bias', 'cls.seq_relationship.weight', 'cls.predictions.transform.dense.bias', 'cls.predictions.transform.LayerNorm.weight', 'cls.predictions.decoder.weight', 'cls.predictions.bias', 'cls.predictions.transform.dense.weight', 'cls.predictions.transform.LayerNorm.bias']\n",
      "- This IS expected if you are initializing TFBertModel from a PyTorch model trained on another task or with another architecture (e.g. initializing a TFBertForSequenceClassification model from a BertForPreTraining model).\n",
      "- This IS NOT expected if you are initializing TFBertModel from a PyTorch model that you expect to be exactly identical (e.g. initializing a TFBertForSequenceClassification model from a BertForSequenceClassification model).\n",
      "All the weights of TFBertModel were initialized from the PyTorch model.\n",
      "If your task is similar to the task the model of the checkpoint was trained on, you can already use TFBertModel for predictions without further training.\n"
     ]
    },
    {
     "name": "stdout",
     "output_type": "stream",
     "text": [
      "WARNING:tensorflow:The parameters `output_attentions`, `output_hidden_states` and `use_cache` cannot be updated when calling a model.They have to be set to True/False in the config object (i.e.: `config=XConfig.from_pretrained('name', output_attentions=True)`).\n",
      "WARNING:tensorflow:The parameter `return_dict` cannot be set in graph mode and will always be set to `True`.\n",
      "Model: \"model_2\"\n",
      "__________________________________________________________________________________________________\n",
      "Layer (type)                    Output Shape         Param #     Connected to                     \n",
      "==================================================================================================\n",
      "input_ids (InputLayer)          [(None, 90)]         0                                            \n",
      "__________________________________________________________________________________________________\n",
      "input_masks (InputLayer)        [(None, 90)]         0                                            \n",
      "__________________________________________________________________________________________________\n",
      "input_segment_ids (InputLayer)  [(None, 90)]         0                                            \n",
      "__________________________________________________________________________________________________\n",
      "tf_bert_model_2 (TFBertModel)   TFBaseModelOutputWit 109482240   input_ids[0][0]                  \n",
      "                                                                 input_masks[0][0]                \n",
      "                                                                 input_segment_ids[0][0]          \n",
      "__________________________________________________________________________________________________\n",
      "nonBertFeatures (InputLayer)    [(None, 3)]          0                                            \n",
      "__________________________________________________________________________________________________\n",
      "tf.concat_2 (TFOpLambda)        (None, 771)          0           tf_bert_model_2[0][1]            \n",
      "                                                                 nonBertFeatures[0][0]            \n",
      "__________________________________________________________________________________________________\n",
      "dense1 (Dense)                  (None, 256)          197632      tf.concat_2[0][0]                \n",
      "__________________________________________________________________________________________________\n",
      "dropout1 (Dropout)              (None, 256)          0           dense1[0][0]                     \n",
      "__________________________________________________________________________________________________\n",
      "outputLayer (Dense)             (None, 3)            771         dropout1[0][0]                   \n",
      "==================================================================================================\n",
      "Total params: 109,680,643\n",
      "Trainable params: 109,680,643\n",
      "Non-trainable params: 0\n",
      "__________________________________________________________________________________________________\n",
      "WARNING:tensorflow:The parameters `output_attentions`, `output_hidden_states` and `use_cache` cannot be updated when calling a model.They have to be set to True/False in the config object (i.e.: `config=XConfig.from_pretrained('name', output_attentions=True)`).\n",
      "WARNING:tensorflow:The parameter `return_dict` cannot be set in graph mode and will always be set to `True`.\n",
      "WARNING:tensorflow:The parameters `output_attentions`, `output_hidden_states` and `use_cache` cannot be updated when calling a model.They have to be set to True/False in the config object (i.e.: `config=XConfig.from_pretrained('name', output_attentions=True)`).\n",
      "WARNING:tensorflow:The parameter `return_dict` cannot be set in graph mode and will always be set to `True`.\n",
      "7/7 [==============================] - 3s 157ms/step - loss: 1.0679 - accuracy: 0.7050 - auc_2: 0.8482 - f1_score: 0.6971\n",
      "WARNING:tensorflow:The parameters `output_attentions`, `output_hidden_states` and `use_cache` cannot be updated when calling a model.They have to be set to True/False in the config object (i.e.: `config=XConfig.from_pretrained('name', output_attentions=True)`).\n",
      "WARNING:tensorflow:The parameter `return_dict` cannot be set in graph mode and will always be set to `True`.\n"
     ]
    }
   ],
   "source": [
    "# run saved model on held-out test data\n",
    "\n",
    "loadDir = r'C:\\Users\\mz1391\\Downloads\\Masters_Berkeley_MIDS\\W266_NLP_Deep_Learning\\Final_Project\\saved_files/saved_models/'\n",
    "fileName = 'bert_3engFeatures'\n",
    "\n",
    "maxTokenLength = 90\n",
    "numNeuronsDense = [256]\n",
    "learningRate = 2e-5\n",
    "dropoutRate = 0.1\n",
    "batchSize = 16\n",
    "numEpochs = 5\n",
    "\n",
    "with tf.device('/GPU:0'):\n",
    "    model = train_fullModel(maxTokenLength, numNeuronsDense, learningRate, dropoutRate, onlyBertEmbed=False, numNonBertFeatures=3)\n",
    "\n",
    "    model.load_weights(loadDir+fileName)\n",
    "\n",
    "    modelInputs_test = [test_encodings['input_ids']\n",
    "                        , test_encodings['attention_mask']\n",
    "                        , test_encodings['token_type_ids']\n",
    "                        , test_nonBertFeatures\n",
    "                       ]\n",
    "\n",
    "    model.evaluate(modelInputs_test, y_test)\n",
    "    \n",
    "    # get model predictions for confusion matrix in next cell\n",
    "    y_pred = np.argmax(model.predict(modelInputs_test), axis=1)"
   ]
  },
  {
   "cell_type": "code",
   "execution_count": 13,
   "metadata": {},
   "outputs": [
    {
     "data": {
      "image/png": "[encoded data removed]",
      "text/plain": [
       "<Figure size 720x504 with 2 Axes>"
      ]
     },
     "metadata": {
      "needs_background": "light"
     },
     "output_type": "display_data"
    }
   ],
   "source": [
    "# confusion matrix of best model results\n",
    "\n",
    "import seaborn as sns\n",
    "from sklearn.metrics import confusion_matrix\n",
    "    \n",
    "# calculate confusion matrix\n",
    "confusionMat = confusion_matrix(np.argmax(y_test, axis=1), y_pred)\n",
    "\n",
    "# create labels and plot the confusion matrix\n",
    "percents = [str(round(quadrant/sum(confusionMat.flatten())*100, 2))+'%' for quadrant in confusionMat.flatten()]\n",
    "labels = (np.asarray([\"{0:.3g}\\n {1}\".format(value, percent)\n",
    "                      for value, percent in zip(confusionMat.flatten()\n",
    "                                                , percents\n",
    "                                               )\n",
    "                     ])\n",
    "         ).reshape(3, 3)\n",
    "\n",
    "figH, axH = plt.subplots(figsize=(10, 7))\n",
    "axH = sns.heatmap(confusionMat, annot=labels, annot_kws={\"fontsize\":16}, fmt=\"\"\n",
    "                  , cmap='Blues', cbar_kws={'label': '\\nNumber of Test Examples'}\n",
    "                 )\n",
    "axH.figure.axes[-1].yaxis.label.set_size(20)\n",
    "plt.xlabel('\\nPredicted', fontsize=20)\n",
    "plt.ylabel('Actual\\n', fontsize=20)\n",
    "axH.set_xticklabels(['agree', 'disagree', 'neutral'])\n",
    "axH.set_yticklabels(['agree', 'disagree', 'neutral'])\n",
    "plt.rcParams.update({'xtick.labelsize': 16,\n",
    "                    'ytick.labelsize': 16})"
   ]
  },
  {
   "cell_type": "code",
   "execution_count": 80,
   "metadata": {},
   "outputs": [
    {
     "name": "stdout",
     "output_type": "stream",
     "text": [
      "[(0,\n",
      "  'Progress in avoiding environmental regrets can come through constructive '\n",
      "  'discussion of ways to cut risks and waste and to sustain a long-term energy '\n",
      "  'quest that extends beyond fossil fuels even while they remain abundant and '\n",
      "  'cheap.'),\n",
      " (1,\n",
      "  'The globally averaged sea surface temperature for 2013 is among the 10 '\n",
      "  'warmest on record.'),\n",
      " (2,\n",
      "  'Global temperatures in 2014 shattered earlier records, making 2014 the '\n",
      "  'hottest year since record-keeping began in 1880.'),\n",
      " (3,\n",
      "  'By the year 2100, floods like the ones caused by Sandy could become '\n",
      "  '1-in-20-year events.'),\n",
      " (4, 'A majority of respondents believe global warming has already begun.'),\n",
      " (5,\n",
      "  'On the warmest day this month, half the ice sheet’s surface is melting, '\n",
      "  'double the norm for this time of year.'),\n",
      " (6, 'We can expect the Arctic to be ice-free in summer within 20 years.'),\n",
      " (7,\n",
      "  'The hidden health and environmental costs of using fossil fuels are far '\n",
      "  'greater than previously thought.'),\n",
      " (8,\n",
      "  'Human emissions of greenhouse gasses essentially control the future of '\n",
      "  'surface melting in Antarctica.'),\n",
      " (9,\n",
      "  'Women are more likely to be harmed in the kinds of natural disasters made '\n",
      "  'more likely by global warming, bear greater responsibility for getting '\n",
      "  'access to water, energy, and other basics of domestic life, and often are '\n",
      "  'shut out of opportunities when resources decline.'),\n",
      " (10,\n",
      "  'Even if countries slammed the brakes on emissions today, the climate would '\n",
      "  'continue to warm because carbon dioxide remains in the atmosphere for '\n",
      "  'centuries.'),\n",
      " (11, 'A domino effect will kick in if global temperatures rise.'),\n",
      " (12, 'Whatever it takes to decarbonize the global economy rapidly.'),\n",
      " (13,\n",
      "  'Buildings should â\\x80\\x9creduce gender-discriminating bias in thermal '\n",
      "  'comfortâ\\x80\\x9d because setting temperatures at slightly warmer levels can '\n",
      "  'help combat global warming.'),\n",
      " (14,\n",
      "  'The missed deadline underscores the disdain with which the Trump '\n",
      "  'administration views the worldwide effort to rein in global warming.'),\n",
      " (15,\n",
      "  'There is no point in only reducing greenhouse gas emissions at home, if we '\n",
      "  'increase the import of CO2 from abroad.'),\n",
      " (16,\n",
      "  'The Trump administration simply discarded prior factual findings related to '\n",
      "  'climate change to support its course reversal.'),\n",
      " (17,\n",
      "  'Coal would have to be phased out even before the Paris Agreement to combat '\n",
      "  'climate change.'),\n",
      " (18,\n",
      "  'Harvard climate action plan explicitly recognizes what the science has made '\n",
      "  'clear.'),\n",
      " (19, 'Almost all climate scientists think global warming is happening.'),\n",
      " (20,\n",
      "  'The U.S. government violated their human rights by failing to take action '\n",
      "  'on climate change.'),\n",
      " (21, 'The carbon impact increased sixfold over the period.')]\n"
     ]
    }
   ],
   "source": [
    "# print examples of most common misclassifications (predict neutral but actual agree)\n",
    "\n",
    "missedInds = np.intersect1d(np.argwhere(np.argmax(y_test, axis=1)==0), np.argwhere(y_pred==2))\n",
    "\n",
    "testDf = featuresDf.loc[testIds]\n",
    "pprint.pprint(list(enumerate(testDf.iloc[missedInds]['sentence'].tolist())))"
   ]
  }
 ],
 "metadata": {
  "kernelspec": {
   "display_name": "Python 3",
   "language": "python",
   "name": "python3"
  },
  "language_info": {
   "codemirror_mode": {
    "name": "ipython",
    "version": 3
   },
   "file_extension": ".py",
   "mimetype": "text/x-python",
   "name": "python",
   "nbconvert_exporter": "python",
   "pygments_lexer": "ipython3",
   "version": "3.7.6"
  }
 },
 "nbformat": 4,
 "nbformat_minor": 4
}
