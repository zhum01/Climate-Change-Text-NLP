{
 "cells": [
  {
   "cell_type": "code",
   "execution_count": 4,
   "metadata": {},
   "outputs": [],
   "source": [
    "import numpy as np\n",
    "import pandas as pd\n",
    "import matplotlib.pyplot as plt\n",
    "import scipy\n",
    "import json\n",
    "import pprint\n",
    "import tensorflow as tf\n",
    "from tensorflow_addons.metrics import F1Score\n",
    "from sklearn.model_selection import train_test_split\n",
    "from sklearn.preprocessing import LabelEncoder\n",
    "from transformers import BertTokenizer, TFBertModel, DistilBertTokenizer, TFDistilBertModel\n",
    "\n",
    "loadDir = r'C:\\Users\\mz1391\\Downloads\\Masters_Berkeley_MIDS\\W266_NLP_Deep_Learning\\Final_Project\\GWStance-master/'\n",
    "loadFName = 'GWSD.tsv'\n",
    "bertModelStr = 'bert-base-uncased'\n",
    "\n",
    "rawData = pd.read_csv(loadDir + loadFName, sep='\\t')\n",
    "labeledInds = np.where(rawData['disagree'].notnull() == True)[0] # use only labeled examples\n",
    "allSents = rawData.iloc[labeledInds]['sentence']\n",
    "allLabels = rawData.iloc[labeledInds][['disagree', 'agree', 'neutral']].idxmax(axis=1)"
   ]
  },
  {
   "cell_type": "code",
   "execution_count": 2,
   "metadata": {},
   "outputs": [
    {
     "data": {
      "text/html": [
       "<div>\n",
       "<style scoped>\n",
       "    .dataframe tbody tr th:only-of-type {\n",
       "        vertical-align: middle;\n",
       "    }\n",
       "\n",
       "    .dataframe tbody tr th {\n",
       "        vertical-align: top;\n",
       "    }\n",
       "\n",
       "    .dataframe thead th {\n",
       "        text-align: right;\n",
       "    }\n",
       "</style>\n",
       "<table border=\"1\" class=\"dataframe\">\n",
       "  <thead>\n",
       "    <tr style=\"text-align: right;\">\n",
       "      <th></th>\n",
       "      <th>Unnamed: 0</th>\n",
       "      <th>round</th>\n",
       "      <th>batch</th>\n",
       "      <th>sent_id</th>\n",
       "      <th>sentence</th>\n",
       "      <th>worker_0</th>\n",
       "      <th>worker_1</th>\n",
       "      <th>worker_2</th>\n",
       "      <th>worker_3</th>\n",
       "      <th>worker_4</th>\n",
       "      <th>worker_5</th>\n",
       "      <th>worker_6</th>\n",
       "      <th>worker_7</th>\n",
       "      <th>disagree</th>\n",
       "      <th>agree</th>\n",
       "      <th>neutral</th>\n",
       "      <th>guid</th>\n",
       "      <th>in_held_out_test</th>\n",
       "    </tr>\n",
       "  </thead>\n",
       "  <tbody>\n",
       "    <tr>\n",
       "      <th>5</th>\n",
       "      <td>5</td>\n",
       "      <td>1</td>\n",
       "      <td>0</td>\n",
       "      <td>t0</td>\n",
       "      <td>Warmer-than-normal sea surface temperatures ar...</td>\n",
       "      <td>neutral</td>\n",
       "      <td>neutral</td>\n",
       "      <td>neutral</td>\n",
       "      <td>agrees</td>\n",
       "      <td>agrees</td>\n",
       "      <td>agrees</td>\n",
       "      <td>agrees</td>\n",
       "      <td>agrees</td>\n",
       "      <td>0.003105</td>\n",
       "      <td>0.711260</td>\n",
       "      <td>0.285634</td>\n",
       "      <td>1_0_t0</td>\n",
       "      <td>False</td>\n",
       "    </tr>\n",
       "    <tr>\n",
       "      <th>6</th>\n",
       "      <td>6</td>\n",
       "      <td>1</td>\n",
       "      <td>0</td>\n",
       "      <td>t1</td>\n",
       "      <td>We will continue to rely in part on fossil fue...</td>\n",
       "      <td>neutral</td>\n",
       "      <td>neutral</td>\n",
       "      <td>neutral</td>\n",
       "      <td>neutral</td>\n",
       "      <td>neutral</td>\n",
       "      <td>neutral</td>\n",
       "      <td>neutral</td>\n",
       "      <td>neutral</td>\n",
       "      <td>0.000830</td>\n",
       "      <td>0.001163</td>\n",
       "      <td>0.998006</td>\n",
       "      <td>1_0_t1</td>\n",
       "      <td>False</td>\n",
       "    </tr>\n",
       "    <tr>\n",
       "      <th>7</th>\n",
       "      <td>7</td>\n",
       "      <td>1</td>\n",
       "      <td>0</td>\n",
       "      <td>t10</td>\n",
       "      <td>The actual rise in sea levels measured only 1....</td>\n",
       "      <td>neutral</td>\n",
       "      <td>neutral</td>\n",
       "      <td>neutral</td>\n",
       "      <td>neutral</td>\n",
       "      <td>neutral</td>\n",
       "      <td>neutral</td>\n",
       "      <td>neutral</td>\n",
       "      <td>neutral</td>\n",
       "      <td>0.000802</td>\n",
       "      <td>0.001174</td>\n",
       "      <td>0.998023</td>\n",
       "      <td>1_0_t10</td>\n",
       "      <td>False</td>\n",
       "    </tr>\n",
       "    <tr>\n",
       "      <th>8</th>\n",
       "      <td>8</td>\n",
       "      <td>1</td>\n",
       "      <td>0</td>\n",
       "      <td>t11</td>\n",
       "      <td>Claims of global warming have been greatly exa...</td>\n",
       "      <td>disagrees</td>\n",
       "      <td>disagrees</td>\n",
       "      <td>disagrees</td>\n",
       "      <td>disagrees</td>\n",
       "      <td>disagrees</td>\n",
       "      <td>disagrees</td>\n",
       "      <td>disagrees</td>\n",
       "      <td>disagrees</td>\n",
       "      <td>0.997695</td>\n",
       "      <td>0.001171</td>\n",
       "      <td>0.001134</td>\n",
       "      <td>1_0_t11</td>\n",
       "      <td>False</td>\n",
       "    </tr>\n",
       "    <tr>\n",
       "      <th>9</th>\n",
       "      <td>9</td>\n",
       "      <td>1</td>\n",
       "      <td>0</td>\n",
       "      <td>t12</td>\n",
       "      <td>The Intergovernmental Panel on Climate Change ...</td>\n",
       "      <td>neutral</td>\n",
       "      <td>disagrees</td>\n",
       "      <td>neutral</td>\n",
       "      <td>neutral</td>\n",
       "      <td>neutral</td>\n",
       "      <td>neutral</td>\n",
       "      <td>neutral</td>\n",
       "      <td>neutral</td>\n",
       "      <td>0.031351</td>\n",
       "      <td>0.002962</td>\n",
       "      <td>0.965687</td>\n",
       "      <td>1_0_t12</td>\n",
       "      <td>False</td>\n",
       "    </tr>\n",
       "  </tbody>\n",
       "</table>\n",
       "</div>"
      ],
      "text/plain": [
       "   Unnamed: 0  round  batch sent_id  \\\n",
       "5           5      1      0      t0   \n",
       "6           6      1      0      t1   \n",
       "7           7      1      0     t10   \n",
       "8           8      1      0     t11   \n",
       "9           9      1      0     t12   \n",
       "\n",
       "                                            sentence   worker_0   worker_1  \\\n",
       "5  Warmer-than-normal sea surface temperatures ar...    neutral    neutral   \n",
       "6  We will continue to rely in part on fossil fue...    neutral    neutral   \n",
       "7  The actual rise in sea levels measured only 1....    neutral    neutral   \n",
       "8  Claims of global warming have been greatly exa...  disagrees  disagrees   \n",
       "9  The Intergovernmental Panel on Climate Change ...    neutral  disagrees   \n",
       "\n",
       "    worker_2   worker_3   worker_4   worker_5   worker_6   worker_7  disagree  \\\n",
       "5    neutral     agrees     agrees     agrees     agrees     agrees  0.003105   \n",
       "6    neutral    neutral    neutral    neutral    neutral    neutral  0.000830   \n",
       "7    neutral    neutral    neutral    neutral    neutral    neutral  0.000802   \n",
       "8  disagrees  disagrees  disagrees  disagrees  disagrees  disagrees  0.997695   \n",
       "9    neutral    neutral    neutral    neutral    neutral    neutral  0.031351   \n",
       "\n",
       "      agree   neutral     guid  in_held_out_test  \n",
       "5  0.711260  0.285634   1_0_t0             False  \n",
       "6  0.001163  0.998006   1_0_t1             False  \n",
       "7  0.001174  0.998023  1_0_t10             False  \n",
       "8  0.001171  0.001134  1_0_t11             False  \n",
       "9  0.002962  0.965687  1_0_t12             False  "
      ]
     },
     "execution_count": 2,
     "metadata": {},
     "output_type": "execute_result"
    }
   ],
   "source": [
    "# take a look at raw data\n",
    "rawData.iloc[5:10] # first 5 examples are unlabeled calibration examples"
   ]
  },
  {
   "cell_type": "code",
   "execution_count": 97,
   "metadata": {},
   "outputs": [],
   "source": [
    "# split data into train, dev, and test sets (test examples are pre-deterimned by authors' labels)\n",
    "devSize = 0.2\n",
    "\n",
    "trainIds = rawData.loc[labeledInds].loc[rawData['in_held_out_test']==False].index.values\n",
    "x_train, x_dev, y_trainStrs, y_devStrs = train_test_split(allSents.loc[trainIds].tolist(), allLabels.loc[trainIds].tolist()\n",
    "                                                  , test_size=devSize, random_state=1214)\n",
    "\n",
    "testIds = rawData.loc[labeledInds].loc[rawData['in_held_out_test']==True].index.values\n",
    "x_test = allSents.loc[testIds].tolist()\n",
    "y_testStrs = allLabels.loc[testIds].tolist()"
   ]
  },
  {
   "cell_type": "code",
   "execution_count": 107,
   "metadata": {},
   "outputs": [
    {
     "data": {
      "text/plain": [
       "array([0.37567568, 0.1972973 , 0.42702703])"
      ]
     },
     "execution_count": 107,
     "metadata": {},
     "output_type": "execute_result"
    }
   ],
   "source": [
    "np.unique(y_trainStrs, return_counts=True)[1]/sum(np.unique(y_trainStrs, return_counts=True)[1])"
   ]
  },
  {
   "cell_type": "code",
   "execution_count": 99,
   "metadata": {},
   "outputs": [
    {
     "data": {
      "image/png": "[encoded data removed]",
      "text/plain": [
       "<Figure size 1080x360 with 3 Axes>"
      ]
     },
     "metadata": {
      "needs_background": "light"
     },
     "output_type": "display_data"
    }
   ],
   "source": [
    "# class distributions\n",
    "datasets = [y_trainStrs, y_devStrs, y_testStrs]\n",
    "plotColors = ['cyan', 'orange', 'black']\n",
    "titles = ['Train', 'Dev', 'Test']\n",
    "\n",
    "fig = plt.figure(figsize=(15,5))\n",
    "\n",
    "for datasetNum in np.arange(len(datasets)):\n",
    "    axH = fig.add_subplot(1,3,datasetNum+1)\n",
    "    labels, counts = np.unique(datasets[datasetNum], return_counts=True)\n",
    "    plt.bar(labels, counts/sum(counts), color=plotColors[datasetNum])\n",
    "    plt.ylim([0, 0.5])\n",
    "    plt.title(titles[datasetNum] + ' Class Labels n=' + str(len(datasets[datasetNum])))"
   ]
  },
  {
   "cell_type": "code",
   "execution_count": 130,
   "metadata": {},
   "outputs": [
    {
     "data": {
      "image/png": "[encoded data removed]",
      "text/plain": [
       "<Figure size 1080x216 with 4 Axes>"
      ]
     },
     "metadata": {
      "needs_background": "light"
     },
     "output_type": "display_data"
    }
   ],
   "source": [
    "# number of tokens by class\n",
    "\n",
    "allClassStrs = ['all training', 'agree', 'disagree', 'neutral']\n",
    "plotColors = ['black', 'green', 'red', 'blue']\n",
    "\n",
    "# get encodings\n",
    "tokenizer = BertTokenizer.from_pretrained(bertModelStr)\n",
    "train_encodings = tokenizer(allSents.loc[trainIds].tolist(), padding=False)\n",
    "\n",
    "fig, axesH = plt.subplots(1, 4, figsize=(15,3))\n",
    "\n",
    "for classStr in allClassStrs:\n",
    "    if classStr == 'all training':\n",
    "        numTokens = np.array([len(example)-2 for example in train_encodings['input_ids']]) # -2 to discount start [CLS] and end [SEP] tokens\n",
    "    else:\n",
    "        classInds = [ind for ind, label in enumerate(allLabels.loc[trainIds].tolist()) if label == classStr]\n",
    "        classTokenIds = [train_encodings['input_ids'][ind] for ind in classInds]\n",
    "        numTokens = np.array([len(example)-2 for example in classTokenIds])\n",
    "                          \n",
    "    listInd = allClassStrs.index(classStr)\n",
    "    axesH[listInd].hist(numTokens, bins = np.linspace(0, 80, num=9), color = plotColors[listInd], density=True)\n",
    "    axesH[listInd].set_title(classStr \n",
    "                             + ' ($\\mu=$' + str(np.round(np.mean(numTokens), 1)) \n",
    "                             + ', sd = ' + str(np.round(np.std(numTokens), 1)) + ')'\n",
    "                            , fontsize=12\n",
    "                            )\n",
    "    axesH[listInd].set_ylim([0,0.042])\n",
    "    axesH[listInd].grid(True)\n",
    "    axesH[listInd].set_xticklabels([None, 0, 20, 40, 60, 80], fontsize=12)\n",
    "    axesH[listInd].set_yticklabels([0, 0.01, 0.02, 0.03, 0.04], fontsize=12)\n",
    "    \n",
    "    if classStr == 'all training':\n",
    "        axesH[listInd].set_xlabel('Number of Tokens', fontsize=14)\n",
    "        axesH[listInd].set_ylabel('Density', fontsize=14)\n",
    "   "
   ]
  },
  {
   "cell_type": "code",
   "execution_count": 8,
   "metadata": {},
   "outputs": [
    {
     "data": {
      "image/png": "[encoded data removed]",
      "text/plain": [
       "<Figure size 1080x360 with 1 Axes>"
      ]
     },
     "metadata": {
      "needs_background": "light"
     },
     "output_type": "display_data"
    }
   ],
   "source": [
    "# number of tokens by class (overlapping)\n",
    "\n",
    "allClassStrs = ['agree', 'disagree', 'neutral']\n",
    "plotColors = ['green', 'red', 'blue']\n",
    "\n",
    "fig = plt.figure(figsize=(15,5))\n",
    "\n",
    "for classStr in allClassStrs:\n",
    "    classInds = [ind for ind, label in enumerate(allLabels.loc[trainIds].tolist()) if label == classStr]\n",
    "    classTokenIds = [train_encodings['input_ids'][ind] for ind in classInds]\n",
    "    numTokens = np.array([len(example)-2 for example in classTokenIds]) # -2 to discount start [CLS] and end [SEP] tokens\n",
    "                          \n",
    "    listInd = allClassStrs.index(classStr)\n",
    "    plt.hist(numTokens, bins = np.linspace(0, 80, num=9), color = plotColors[listInd], density=True, alpha=0.6)\n",
    "    plt.grid(True)"
   ]
  },
  {
   "cell_type": "markdown",
   "metadata": {},
   "source": [
    "## Plot most frequent tokens by class"
   ]
  },
  {
   "cell_type": "code",
   "execution_count": 113,
   "metadata": {},
   "outputs": [],
   "source": [
    "from collections import Counter\n",
    "\n",
    "allClassStrs = ['agree', 'disagree', 'neutral']\n",
    "\n",
    "# initiate dictionary with all tokens across all training examples\n",
    "flatTokenIds = [token for example in train_encodings['input_ids'] for token in tokenizer.convert_ids_to_tokens(example)]\n",
    "tokenDensitiesDict = dict((token, [0, 0, 0]) for token in list(dict(Counter(flatTokenIds)).keys()))\n",
    "\n",
    "for classStr in allClassStrs:\n",
    "    classInds = [ind for ind, label in enumerate(allLabels.loc[trainIds].tolist()) if label == classStr]\n",
    "    classTokenIds = [train_encodings['input_ids'][ind] for ind in classInds]\n",
    "    flatTokenIds = [token for example in classTokenIds for token in tokenizer.convert_ids_to_tokens(example)]\n",
    "    classTokenCounts = dict(Counter(flatTokenIds))\n",
    "    \n",
    "    classListInd = allClassStrs.index(classStr)\n",
    "    numSents = len(classInds)\n",
    "    for token in list(tokenDensitiesDict.keys()):\n",
    "        if token in classTokenCounts.keys():\n",
    "            tokenDensitiesDict[token][classListInd] = classTokenCounts[token]/numSents"
   ]
  },
  {
   "cell_type": "code",
   "execution_count": 114,
   "metadata": {
    "scrolled": false
   },
   "outputs": [],
   "source": [
    "# put token densities in a df\n",
    "tokenDensitiesDf = pd.DataFrame.from_dict(tokenDensitiesDict, orient='index'\n",
    "                                          , columns=allClassStrs)\n",
    "\n",
    "# reorder by largest (absolute value) density differences between 'agree' and 'disagree' sentences\n",
    "tokenDensitiesDf['agreeMinusDisagree'] =  tokenDensitiesDf['agree'] - tokenDensitiesDf['disagree']\n",
    "tokenDensitiesDf = tokenDensitiesDf.reindex(tokenDensitiesDf.agreeMinusDisagree.abs().sort_values(ascending=False).index)"
   ]
  },
  {
   "cell_type": "code",
   "execution_count": 151,
   "metadata": {
    "scrolled": false
   },
   "outputs": [
    {
     "data": {
      "text/plain": [
       "<matplotlib.legend.Legend at 0x29101cb8088>"
      ]
     },
     "execution_count": 151,
     "metadata": {},
     "output_type": "execute_result"
    },
    {
     "data": {
      "image/png": "[encoded data removed]",
      "text/plain": [
       "<Figure size 1080x720 with 1 Axes>"
      ]
     },
     "metadata": {
      "needs_background": "light"
     },
     "output_type": "display_data"
    }
   ],
   "source": [
    "from matplotlib.lines import Line2D\n",
    "\n",
    "topNTokens = 20\n",
    "\n",
    "figH = plt.figure(figsize=(15,10))\n",
    "\n",
    "tokenDensitiesDf['positive'] = tokenDensitiesDf['agreeMinusDisagree'] > 0\n",
    "tokenDensitiesDf.iloc[0:topNTokens]['agreeMinusDisagree'].plot.barh(color=tokenDensitiesDf.iloc[0:topNTokens].positive.map({True: 'g', False: 'r'}))\n",
    "plt.xlabel('Difference in Proportion of Sentences with Token (agree minus disagree)', fontsize=20)\n",
    "plt.title('Largest Differences in Token Densities Between \"agree\" and \"disagree\" Classes', fontsize=20)\n",
    "plt.xticks(fontsize=16)\n",
    "plt.yticks(fontsize=16)\n",
    "legsH = [Line2D([0], [0], color='g', lw=10, label='\"agree\" uses more often')\n",
    "         , Line2D([0], [0], color='r', lw=10, label='\"disagree\" uses more often')\n",
    "        ]\n",
    "plt.legend(handles=legsH, fontsize=18, loc='upper right')"
   ]
  },
  {
   "cell_type": "markdown",
   "metadata": {},
   "source": [
    "**Conclusions:** 'agree' sentences seem to be longer based on highest difference being a comma. None of the other tokens seem to have particularly large enough differences to make a difference on classification. May be useful to run same analysis using n-grams instead of single tokens."
   ]
  },
  {
   "cell_type": "markdown",
   "metadata": {},
   "source": [
    "### Put Number of Tokens in a df to use as a feature "
   ]
  },
  {
   "cell_type": "code",
   "execution_count": 12,
   "metadata": {},
   "outputs": [],
   "source": [
    "allEncodings = tokenizer(allSents.tolist(), padding=False)\n",
    "numTokens = np.array([len(example)-2 for example in allEncodings['input_ids']]) # -2 to discount start [CLS] and end [SEP] tokens\n",
    "\n",
    "featuresDf = pd.DataFrame(allLabels, columns=['label'])\n",
    "featuresDf['numTokens'] = numTokens"
   ]
  },
  {
   "cell_type": "code",
   "execution_count": 121,
   "metadata": {},
   "outputs": [
    {
     "name": "stdout",
     "output_type": "stream",
     "text": [
      "Wilcoxon Rank-Sum: 2.9161215\n",
      "p-value: 0.0035441\n",
      "Cohen's D: 0.1687621\n"
     ]
    }
   ],
   "source": [
    "# unsampled t-test and effect sizes between two classes\n",
    "sample1 = featuresDf.where(featuresDf.label=='agree').dropna()['numTokens']\n",
    "sample2 = featuresDf.where(featuresDf.label=='disagree').dropna()['numTokens']\n",
    "\n",
    "def print_ttest_cohensD(sample1, sample2, parametric=True):\n",
    "    if parametric:\n",
    "        statsResult = scipy.stats.ttest_ind(sample1, sample2)\n",
    "    else:\n",
    "        statsResult = scipy.stats.ranksums(sample1, sample2)\n",
    "\n",
    "    pooledStd = np.sqrt((np.std(sample1)**2 + np.std(sample2)**2) / 2)\n",
    "    cohensD = (np.mean(sample1) - np.mean(sample2))/pooledStd\n",
    "\n",
    "    if parametric:\n",
    "        print('t-value: ' + str(round(statsResult.statistic, 7))\n",
    "              + '\\np-value: ' + str(round(statsResult.pvalue, 7))\n",
    "              + '\\nCohen\\'s D: ' + str(round(cohensD, 7))\n",
    "             )\n",
    "    else:\n",
    "        print('Wilcoxon Rank-Sum: ' + str(round(statsResult.statistic, 7))\n",
    "              + '\\np-value: ' + str(round(statsResult.pvalue, 7))\n",
    "              + '\\nCohen\\'s D: ' + str(round(cohensD, 7))\n",
    "             )\n",
    "\n",
    "    \n",
    "print_ttest_cohensD(sample1, sample2, parametric=False)"
   ]
  },
  {
   "cell_type": "markdown",
   "metadata": {},
   "source": [
    "# Sentiment Scores"
   ]
  },
  {
   "cell_type": "markdown",
   "metadata": {},
   "source": [
    "## Sentiment Scores using Bert"
   ]
  },
  {
   "cell_type": "code",
   "execution_count": 80,
   "metadata": {},
   "outputs": [
    {
     "data": {
      "text/html": [
       "<div>\n",
       "<style scoped>\n",
       "    .dataframe tbody tr th:only-of-type {\n",
       "        vertical-align: middle;\n",
       "    }\n",
       "\n",
       "    .dataframe tbody tr th {\n",
       "        vertical-align: top;\n",
       "    }\n",
       "\n",
       "    .dataframe thead th {\n",
       "        text-align: right;\n",
       "    }\n",
       "</style>\n",
       "<table border=\"1\" class=\"dataframe\">\n",
       "  <thead>\n",
       "    <tr style=\"text-align: right;\">\n",
       "      <th></th>\n",
       "      <th>numTokens</th>\n",
       "      <th>bertSent</th>\n",
       "      <th>swnet_zscored</th>\n",
       "    </tr>\n",
       "    <tr>\n",
       "      <th>label</th>\n",
       "      <th></th>\n",
       "      <th></th>\n",
       "      <th></th>\n",
       "    </tr>\n",
       "  </thead>\n",
       "  <tbody>\n",
       "    <tr>\n",
       "      <th>agree</th>\n",
       "      <td>23.038610</td>\n",
       "      <td>-0.195645</td>\n",
       "      <td>-0.047983</td>\n",
       "    </tr>\n",
       "    <tr>\n",
       "      <th>disagree</th>\n",
       "      <td>21.125000</td>\n",
       "      <td>-0.461165</td>\n",
       "      <td>-0.214200</td>\n",
       "    </tr>\n",
       "    <tr>\n",
       "      <th>neutral</th>\n",
       "      <td>22.434135</td>\n",
       "      <td>-0.201133</td>\n",
       "      <td>0.140851</td>\n",
       "    </tr>\n",
       "  </tbody>\n",
       "</table>\n",
       "</div>"
      ],
      "text/plain": [
       "          numTokens  bertSent  swnet_zscored\n",
       "label                                       \n",
       "agree     23.038610 -0.195645      -0.047983\n",
       "disagree  21.125000 -0.461165      -0.214200\n",
       "neutral   22.434135 -0.201133       0.140851"
      ]
     },
     "execution_count": 80,
     "metadata": {},
     "output_type": "execute_result"
    }
   ],
   "source": [
    "# either load or calculate sentiment scores\n",
    "import os\n",
    "\n",
    "saveLoadDir = r'C:\\Users\\mz1391\\Downloads\\Masters_Berkeley_MIDS\\W266_NLP_Deep_Learning\\Final_Project\\saved_files/'\n",
    "fileName = 'sentimentScores_distilbert.json'\n",
    "\n",
    "if os.path.isfile(saveLoadDir + fileName):\n",
    "    with open(saveLoadDir + fileName, 'r') as file:\n",
    "        sentimentOutput = json.load(file)\n",
    "else:    \n",
    "    # get sentiment scores (using BERT)\n",
    "    sentimentClassifier = pipeline('sentiment-analysis', framework='tf', device=0)\n",
    "    sentimentOutput = sentimentClassifier(allSents.tolist())    \n",
    "\n",
    "    # save to json\n",
    "    saveLoadDir = r'C:\\Users\\mz1391\\Downloads\\Masters_Berkeley_MIDS\\W266_NLP_Deep_Learning\\Final_Project\\saved_files/'\n",
    "    fileName = 'sentimentScores_distilbert.json'\n",
    "\n",
    "    with open(saveLoadDir + fileName, 'w') as fout:\n",
    "        json.dump(sentimentOutput , fout)\n",
    "        \n",
    "# put sentiment scores and labels in a dataframe\n",
    "allSentScores = [sentence['score'] for sentence in sentimentOutput]\n",
    "\n",
    "# adjust confidence scores to be used as a feature\n",
    "for ind in np.arange(len(allSentScores)):\n",
    "    allSentScores[ind] = allSentScores[ind] - (1-allSentScores[ind]) # subtract probability of opposite class (changes lims to [0 1])\n",
    "    \n",
    "    if sentimentOutput[ind]['label'] == 'NEGATIVE': # flip sign of negative scores\n",
    "        allSentScores[ind] = -allSentScores[ind]\n",
    "        \n",
    "# put sentiment scores in featuresDf\n",
    "featuresDf['bertSent'] = allSentScores\n",
    "featuresDf.groupby('label').mean()"
   ]
  },
  {
   "cell_type": "code",
   "execution_count": 42,
   "metadata": {},
   "outputs": [
    {
     "data": {
      "image/png": "[encoded data removed]",
      "text/plain": [
       "<Figure size 1080x288 with 3 Axes>"
      ]
     },
     "metadata": {
      "needs_background": "light"
     },
     "output_type": "display_data"
    }
   ],
   "source": [
    "# check distributions of scaled sentiment scores\n",
    "\n",
    "classStrs = ['agree', 'disagree', 'neutral']\n",
    "\n",
    "figH, axesH = plt.subplots(1, 3, figsize=(15,4))\n",
    "\n",
    "for classStr in classStrs:\n",
    "    axesH[classStrs.index(classStr)].hist(featuresDf.where(featuresDf.label==classStr).dropna()['bertSent'], density=True)\n",
    "    axesH[classStrs.index(classStr)].grid(True)\n",
    "    axesH[classStrs.index(classStr)].set_title(classStr + ', $\\mu$ = ' + str(np.round(np.mean(featuresDf.where(featuresDf.label==classStr).dropna()['bertSent']), 3)))\n",
    "    axesH[classStrs.index(classStr)].set_ylim([0, 3.5])\n",
    "    axesH[classStrs.index(classStr)].set_xlabel('Scaled Sentiment Score (from BERT)', fontsize=14)"
   ]
  },
  {
   "cell_type": "code",
   "execution_count": 122,
   "metadata": {},
   "outputs": [
    {
     "name": "stdout",
     "output_type": "stream",
     "text": [
      "Wilcoxon Rank-Sum: 6.4154673\n",
      "p-value: 0.0\n",
      "Cohen's D: 0.3081711\n"
     ]
    }
   ],
   "source": [
    "# unsampled t-test and effect sizes between sentiment scores of classes \n",
    "sample1 = featuresDf.where(featuresDf.label=='agree').dropna()['bertSent']\n",
    "sample2 = featuresDf.where(featuresDf.label=='disagree').dropna()['bertSent']\n",
    "    \n",
    "print_ttest_cohensD(sample1, sample2, parametric=False)"
   ]
  },
  {
   "cell_type": "code",
   "execution_count": 89,
   "metadata": {
    "scrolled": false
   },
   "outputs": [
    {
     "name": "stdout",
     "output_type": "stream",
     "text": [
      "'The carbon released will further warm the planet.  agree  sentScore: 0.99935'\n",
      "'Global warming will never hurt anyone.  disagree  sentScore: 0.99936'\n",
      "('Mitch McConnell and the Republican Party are going to boldly confront '\n",
      " 'climate change and create millions of jobs in the process.  disagree  '\n",
      " 'sentScore: 0.99936')\n",
      "('Global warming is beneficial to the welfare and business.  disagree  '\n",
      " 'sentScore: 0.99941')\n",
      "('If we look at the big picture, not only are the economic benefits [ of '\n",
      " 'fossil fuels ] overwhelmingly positive, but the environmental benefits are '\n",
      " 'overwhelmingly positive.  disagree  sentScore: 0.99943')\n",
      "('Doing something about climate change is loving our global neighbor.  agree  '\n",
      " 'sentScore: 0.99944')\n",
      "'Carbon dioxide is a perfectly natural gas.  disagree  sentScore: 0.99951'\n",
      "('Tackling climate change will be the greatest global health opportunity of '\n",
      " 'the 21st century .  agree  sentScore: 0.9996')\n",
      "(\"I'm proud to stand with young people in Iowa and around the world today in \"\n",
      " 'their climate strikes.  agree  sentScore: 0.9996')\n",
      "('The things we do to reduce greenhouse gas pollution from transportation also '\n",
      " 'deliver enormous benefits to public health and the economy.  agree  '\n",
      " 'sentScore: 0.9996')\n",
      "('Well, everything is OK because the big changes in the Arctic are essentially '\n",
      " \"balanced by what's happening in the Antarctic.  disagree  sentScore: 0.99963\")\n",
      "('There is a realistic win-win outcome: with the right government policies, we '\n",
      " 'can stimulate investment in green energy, efficient cities, better '\n",
      " 'transportation and the like, which will address climate change as well as '\n",
      " 'make many of our lives better and more comfortable.  agree  sentScore: '\n",
      " '0.99967')\n",
      "'Global warming is real.  agree  sentScore: 0.99968'\n",
      "'Global warming is real.  agree  sentScore: 0.99968'\n",
      "('It is encouraging to see countries working together in the spirit of '\n",
      " 'multilateralism to address climate change.  agree  sentScore: 0.99971')\n"
     ]
    }
   ],
   "source": [
    "# print examples of sentences with labels and sentiment scores\n",
    "sortedInds = np.argsort(allSentScores)\n",
    "printInds = sortedInds[-20:]\n",
    "\n",
    "for ind in printInds:\n",
    "    if allLabels.iloc[ind] == 'agree' or allLabels.iloc[ind] == 'disagree':\n",
    "        pprint.pprint(allSents.iloc[ind] + '  ' + allLabels.iloc[ind] + '  sentScore: ' + str(round(allSentScores[ind], 5)))"
   ]
  },
  {
   "cell_type": "markdown",
   "metadata": {},
   "source": [
    "## Sentiment Scores from SentiWordNet (sentiment lexicon)"
   ]
  },
  {
   "cell_type": "code",
   "execution_count": 37,
   "metadata": {},
   "outputs": [
    {
     "data": {
      "text/html": [
       "<div>\n",
       "<style scoped>\n",
       "    .dataframe tbody tr th:only-of-type {\n",
       "        vertical-align: middle;\n",
       "    }\n",
       "\n",
       "    .dataframe tbody tr th {\n",
       "        vertical-align: top;\n",
       "    }\n",
       "\n",
       "    .dataframe thead th {\n",
       "        text-align: right;\n",
       "    }\n",
       "</style>\n",
       "<table border=\"1\" class=\"dataframe\">\n",
       "  <thead>\n",
       "    <tr style=\"text-align: right;\">\n",
       "      <th></th>\n",
       "      <th>numTokens</th>\n",
       "      <th>bertSent</th>\n",
       "      <th>swnet_zscored</th>\n",
       "    </tr>\n",
       "    <tr>\n",
       "      <th>label</th>\n",
       "      <th></th>\n",
       "      <th></th>\n",
       "      <th></th>\n",
       "    </tr>\n",
       "  </thead>\n",
       "  <tbody>\n",
       "    <tr>\n",
       "      <th>agree</th>\n",
       "      <td>23.038610</td>\n",
       "      <td>-0.195645</td>\n",
       "      <td>-0.047983</td>\n",
       "    </tr>\n",
       "    <tr>\n",
       "      <th>disagree</th>\n",
       "      <td>21.125000</td>\n",
       "      <td>-0.461165</td>\n",
       "      <td>-0.214200</td>\n",
       "    </tr>\n",
       "    <tr>\n",
       "      <th>neutral</th>\n",
       "      <td>22.434135</td>\n",
       "      <td>-0.201133</td>\n",
       "      <td>0.140851</td>\n",
       "    </tr>\n",
       "  </tbody>\n",
       "</table>\n",
       "</div>"
      ],
      "text/plain": [
       "          numTokens  bertSent  swnet_zscored\n",
       "label                                       \n",
       "agree     23.038610 -0.195645      -0.047983\n",
       "disagree  21.125000 -0.461165      -0.214200\n",
       "neutral   22.434135 -0.201133       0.140851"
      ]
     },
     "execution_count": 37,
     "metadata": {},
     "output_type": "execute_result"
    }
   ],
   "source": [
    "# get sentiwordnet scores for each example in dataset\n",
    "from nltk.corpus import sentiwordnet as swn\n",
    "\n",
    "tokenizer = BertTokenizer.from_pretrained(bertModelStr)\n",
    "\n",
    "allSentScores = []\n",
    "\n",
    "for sentStr in allSents.tolist():\n",
    "    tokens = tokenizer.tokenize(sentStr)\n",
    "    scoresList = []\n",
    "    \n",
    "    for word in tokens:\n",
    "        if not list(swn.senti_synsets(word)):\n",
    "            None # exclude unknown tokens\n",
    "        else:\n",
    "            # currently using very crude method: take the first score of each word (using a pos-tagger would be more accurate)\n",
    "            sentScoreDiff = list(swn.senti_synsets(word))[0].pos_score() - list(swn.senti_synsets(word))[0].neg_score()\n",
    "            scoresList.append(sentScoreDiff)\n",
    "            \n",
    "    allSentScores.append(np.mean(scoresList))\n",
    "    \n",
    "featuresDf['swnet_zscored'] = scipy.stats.zscore(allSentScores)\n",
    "featuresDf.groupby('label').mean()"
   ]
  },
  {
   "cell_type": "code",
   "execution_count": 40,
   "metadata": {},
   "outputs": [
    {
     "data": {
      "image/png": "[encoded data removed]",
      "text/plain": [
       "<Figure size 1080x288 with 3 Axes>"
      ]
     },
     "metadata": {
      "needs_background": "light"
     },
     "output_type": "display_data"
    }
   ],
   "source": [
    "# check distributions of scaled sentiment scores\n",
    "\n",
    "classStrs = ['agree', 'disagree', 'neutral']\n",
    "\n",
    "figH, axesH = plt.subplots(1, 3, figsize=(15,4))\n",
    "\n",
    "for classStr in classStrs:\n",
    "    axesH[classStrs.index(classStr)].hist(featuresDf.where(featuresDf.label==classStr).dropna()['swnet_zscored'], density=True)\n",
    "    axesH[classStrs.index(classStr)].grid(True)\n",
    "    axesH[classStrs.index(classStr)].set_title(classStr \n",
    "                                               + ', $\\mu$ = ' + str(np.round(np.mean(featuresDf.where(featuresDf.label==classStr).dropna()['swnet_zscored']), 3))\n",
    "                                               + ', $\\sigma$ = ' + str(np.round(np.std(featuresDf.where(featuresDf.label==classStr).dropna()['swnet_zscored']), 3))\n",
    "                                              )\n",
    "    axesH[classStrs.index(classStr)].set_ylim([0, 0.6])\n",
    "    axesH[classStrs.index(classStr)].set_xlim([-5, 5])\n",
    "    axesH[classStrs.index(classStr)].set_xlabel('SentiWordNet (z-scored)', fontsize=18)"
   ]
  },
  {
   "cell_type": "code",
   "execution_count": 46,
   "metadata": {},
   "outputs": [
    {
     "name": "stdout",
     "output_type": "stream",
     "text": [
      "t-value: 2.5520103\n",
      "p-value: 0.010836\n",
      "Cohen's D: 0.154251\n"
     ]
    }
   ],
   "source": [
    "# unsampled t-test and effect sizes between sentiment scores of classes \n",
    "sample1 = featuresDf.where(featuresDf.label=='agree').dropna()['swnet_zscored']\n",
    "sample2 = featuresDf.where(featuresDf.label=='disagree').dropna()['swnet_zscored']\n",
    "\n",
    "print_ttest_cohensD(sample1, sample2)"
   ]
  },
  {
   "cell_type": "markdown",
   "metadata": {},
   "source": [
    "## Save featuresDf to CSV to be used for training models"
   ]
  },
  {
   "cell_type": "code",
   "execution_count": 73,
   "metadata": {},
   "outputs": [],
   "source": [
    "saveDir = r'C:\\Users\\mz1391\\Downloads\\Masters_Berkeley_MIDS\\W266_NLP_Deep_Learning\\Final_Project\\saved_files/'\n",
    "fileName = 'engineeredFeatures.csv'\n",
    "\n",
    "featuresDf.to_csv(saveDir+fileName, index_label='id')"
   ]
  }
 ],
 "metadata": {
  "kernelspec": {
   "display_name": "Python 3",
   "language": "python",
   "name": "python3"
  },
  "language_info": {
   "codemirror_mode": {
    "name": "ipython",
    "version": 3
   },
   "file_extension": ".py",
   "mimetype": "text/x-python",
   "name": "python",
   "nbconvert_exporter": "python",
   "pygments_lexer": "ipython3",
   "version": "3.7.6"
  }
 },
 "nbformat": 4,
 "nbformat_minor": 4
}
